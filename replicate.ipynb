{
  "cells": [
    {
      "cell_type": "code",
      "execution_count": null,
      "id": "5557ac0c-9410-4dc9-a4f0-20b7a3636f05",
      "metadata": {
        "id": "5557ac0c-9410-4dc9-a4f0-20b7a3636f05"
      },
      "outputs": [],
      "source": [
        "!git clone https://github.com/Yuen647/SYNPRUNE.git"
      ]
    },
    {
      "cell_type": "markdown",
      "source": [
        "# set the env"
      ],
      "metadata": {
        "id": "DmLTE8pZuVHf"
      },
      "id": "DmLTE8pZuVHf"
    },
    {
      "cell_type": "code",
      "execution_count": null,
      "id": "cd1ecd6d-ac40-48de-b10a-5bdc902ef547",
      "metadata": {
        "id": "cd1ecd6d-ac40-48de-b10a-5bdc902ef547"
      },
      "outputs": [],
      "source": [
        "%cd SYNPRUNE\n",
        "! pip install -r requirements.txt"
      ]
    },
    {
      "cell_type": "markdown",
      "source": [
        "#Execute SYNPRUNE"
      ],
      "metadata": {
        "id": "V1hK81FtucrV"
      },
      "id": "V1hK81FtucrV"
    },
    {
      "cell_type": "code",
      "execution_count": null,
      "id": "4740b578-826d-4903-a52a-5bd2506c936d",
      "metadata": {
        "tags": [],
        "id": "4740b578-826d-4903-a52a-5bd2506c936d",
        "outputId": "3c704ac2-b0a7-4c53-dce5-c4e1310053a6"
      },
      "outputs": [
        {
          "name": "stdout",
          "output_type": "stream",
          "text": [
            "Processing: 100%|███████████████████████████| 2000/2000 [04:16<00:00,  7.79it/s]\n",
            "     method  auroc  fpr95  tpr05\n",
            "0      loss  38.4%  97.2%   3.2%\n",
            "1      zlib  33.2%  98.6%   1.6%\n",
            "2  mink_0.2  38.8%  97.7%   2.5%\n",
            "3  synprune  64.9%  88.3%  19.0%\n",
            "/root/miniconda3/lib/python3.8/site-packages/huggingface_hub/file_download.py:896: FutureWarning: `resume_download` is deprecated and will be removed in version 1.0.0. Downloads always resume when possible. If you want to force a new download, use `force_download=True`.\n",
            "  warnings.warn(\n",
            "/root/miniconda3/lib/python3.8/site-packages/huggingface_hub/file_download.py:896: FutureWarning: `resume_download` is deprecated and will be removed in version 1.0.0. Downloads always resume when possible. If you want to force a new download, use `force_download=True`.\n",
            "  warnings.warn(\n",
            "Processing: 100%|███████████████████████████| 2000/2000 [04:35<00:00,  7.25it/s]\n",
            "     method  auroc  fpr95  tpr05\n",
            "0      loss  34.7%  97.9%   1.3%\n",
            "1      zlib  32.4%  98.4%   1.0%\n",
            "2  mink_0.2  38.2%  97.6%   2.5%\n",
            "3  synprune  62.3%  93.2%  18.5%\n",
            "Loading checkpoint shards: 100%|██████████████████| 2/2 [00:10<00:00,  5.43s/it]\n",
            "Processing: 100%|███████████████████████████| 2000/2000 [04:52<00:00,  6.83it/s]\n",
            "     method  auroc  fpr95  tpr05\n",
            "0      loss  33.3%  97.9%   2.2%\n",
            "1      zlib  32.0%  98.3%   1.4%\n",
            "2  mink_0.2  34.2%  97.9%   1.5%\n",
            "3  synprune  64.9%  88.3%  18.8%\n"
          ]
        }
      ],
      "source": [
        "%cd SYNPRUNE/src\n",
        "! python run.py --model EleutherAI/pythia-2.8b --dataset ../dataset/python_sample.jsonl\n",
        "! python run.py --model EleutherAI/gpt-neo-2.7B --dataset ../dataset/python_sample.jsonl\n",
        "! python run.py --model stabilityai/stablelm-base-alpha-3b --dataset ../dataset/python_sample.jsonl\n",
        "! python run.py --model EleutherAI/gpt-j-6B --dataset ../dataset/python_sample.jsonl"
      ]
    },
    {
      "cell_type": "code",
      "execution_count": null,
      "id": "5ed238b8-566c-4d13-8fb3-4838be886917",
      "metadata": {
        "id": "5ed238b8-566c-4d13-8fb3-4838be886917"
      },
      "outputs": [],
      "source": [
        "# evaluation-ablation experiments"
      ]
    },
    {
      "cell_type": "code",
      "execution_count": null,
      "id": "02e9acfd-ff6c-47e2-b229-307de9ca4a6a",
      "metadata": {
        "id": "02e9acfd-ff6c-47e2-b229-307de9ca4a6a"
      },
      "outputs": [],
      "source": [
        "%cd ./SYNPRUNE/evaluation"
      ]
    },
    {
      "cell_type": "code",
      "execution_count": null,
      "id": "a5b43055-0713-4b51-a483-7a70c64e8e44",
      "metadata": {
        "id": "a5b43055-0713-4b51-a483-7a70c64e8e44"
      },
      "outputs": [],
      "source": [
        "# 取消datamoel类\n",
        "! python ablate.py --model your_model --dataset ../dataset/python_sample.jsonl --drop datamodel"
      ]
    },
    {
      "cell_type": "code",
      "execution_count": null,
      "id": "ef5d846d-7ad3-4d05-83ae-dbfafb30dcf6",
      "metadata": {
        "id": "ef5d846d-7ad3-4d05-83ae-dbfafb30dcf6"
      },
      "outputs": [],
      "source": [
        "# 取消expressions类\n",
        "! python ablate.py --model your_model --dataset ../dataset/python_sample.jsonl --drop expressions"
      ]
    },
    {
      "cell_type": "code",
      "execution_count": null,
      "id": "1f6bb448-a669-41fa-a1b8-913f3250279a",
      "metadata": {
        "id": "1f6bb448-a669-41fa-a1b8-913f3250279a"
      },
      "outputs": [],
      "source": [
        "# 取消single_statement类\n",
        "! python ablate.py --model your_model --dataset ../dataset/python_sample.jsonl --drop single"
      ]
    },
    {
      "cell_type": "code",
      "execution_count": null,
      "id": "0f8c5955-2791-4f7b-9fa6-a60d0a2c78d3",
      "metadata": {
        "id": "0f8c5955-2791-4f7b-9fa6-a60d0a2c78d3"
      },
      "outputs": [],
      "source": [
        "# 取消compound_statement类\n",
        "! python ablate.py --model your_model --dataset ../dataset/python_sample.jsonl --drop compound"
      ]
    }
  ],
  "metadata": {
    "kernelspec": {
      "display_name": "Python 3 (ipykernel)",
      "language": "python",
      "name": "python3"
    },
    "language_info": {
      "codemirror_mode": {
        "name": "ipython",
        "version": 3
      },
      "file_extension": ".py",
      "mimetype": "text/x-python",
      "name": "python",
      "nbconvert_exporter": "python",
      "pygments_lexer": "ipython3",
      "version": "3.8.10"
    },
    "colab": {
      "provenance": []
    }
  },
  "nbformat": 4,
  "nbformat_minor": 5
}